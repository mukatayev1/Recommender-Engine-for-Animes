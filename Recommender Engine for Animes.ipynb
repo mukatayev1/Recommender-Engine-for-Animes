{
 "cells": [
  {
   "cell_type": "markdown",
   "metadata": {},
   "source": [
    "# Building Recommender System from scratch"
   ]
  },
  {
   "cell_type": "markdown",
   "metadata": {},
   "source": [
    "##### Always import Numpy and Pandas libraries to manipulate our dataset.\n",
    "##### Numpy and Pandas libraries are the essential libraries for almost every Data Science project"
   ]
  },
  {
   "cell_type": "code",
   "execution_count": 1,
   "metadata": {},
   "outputs": [],
   "source": [
    "import numpy as np # linear algebra\n",
    "import pandas as pd # data processing, CSV file I/O (e.g. pd.read_csv)"
   ]
  },
  {
   "cell_type": "markdown",
   "metadata": {},
   "source": [
    "## Step 1: Import necessary libraries for plotting "
   ]
  },
  {
   "cell_type": "code",
   "execution_count": 2,
   "metadata": {},
   "outputs": [],
   "source": [
    "import matplotlib.pyplot as plt\n",
    "import seaborn as sns"
   ]
  },
  {
   "cell_type": "markdown",
   "metadata": {},
   "source": [
    "## Step 2: Load the Datasets\n",
    "\n",
    "#### We have to load our rating.csv and anime.csv files."
   ]
  },
  {
   "cell_type": "code",
   "execution_count": 3,
   "metadata": {},
   "outputs": [
    {
     "data": {
      "text/html": [
       "<div>\n",
       "<style scoped>\n",
       "    .dataframe tbody tr th:only-of-type {\n",
       "        vertical-align: middle;\n",
       "    }\n",
       "\n",
       "    .dataframe tbody tr th {\n",
       "        vertical-align: top;\n",
       "    }\n",
       "\n",
       "    .dataframe thead th {\n",
       "        text-align: right;\n",
       "    }\n",
       "</style>\n",
       "<table border=\"1\" class=\"dataframe\">\n",
       "  <thead>\n",
       "    <tr style=\"text-align: right;\">\n",
       "      <th></th>\n",
       "      <th>user_id</th>\n",
       "      <th>anime_id</th>\n",
       "      <th>rating</th>\n",
       "    </tr>\n",
       "  </thead>\n",
       "  <tbody>\n",
       "    <tr>\n",
       "      <th>0</th>\n",
       "      <td>1</td>\n",
       "      <td>20</td>\n",
       "      <td>-1</td>\n",
       "    </tr>\n",
       "    <tr>\n",
       "      <th>1</th>\n",
       "      <td>1</td>\n",
       "      <td>24</td>\n",
       "      <td>-1</td>\n",
       "    </tr>\n",
       "    <tr>\n",
       "      <th>2</th>\n",
       "      <td>1</td>\n",
       "      <td>79</td>\n",
       "      <td>-1</td>\n",
       "    </tr>\n",
       "    <tr>\n",
       "      <th>3</th>\n",
       "      <td>1</td>\n",
       "      <td>226</td>\n",
       "      <td>-1</td>\n",
       "    </tr>\n",
       "    <tr>\n",
       "      <th>4</th>\n",
       "      <td>1</td>\n",
       "      <td>241</td>\n",
       "      <td>-1</td>\n",
       "    </tr>\n",
       "  </tbody>\n",
       "</table>\n",
       "</div>"
      ],
      "text/plain": [
       "   user_id  anime_id  rating\n",
       "0        1        20      -1\n",
       "1        1        24      -1\n",
       "2        1        79      -1\n",
       "3        1       226      -1\n",
       "4        1       241      -1"
      ]
     },
     "execution_count": 3,
     "metadata": {},
     "output_type": "execute_result"
    }
   ],
   "source": [
    "#Loading dataset and viewing first 5 rows of rating.csv\n",
    "\n",
    "ratings = pd.read_csv('/Users/AZM/Desktop/Dataset/rating.csv')\n",
    "ratings.head()"
   ]
  },
  {
   "cell_type": "code",
   "execution_count": 4,
   "metadata": {},
   "outputs": [
    {
     "data": {
      "text/html": [
       "<div>\n",
       "<style scoped>\n",
       "    .dataframe tbody tr th:only-of-type {\n",
       "        vertical-align: middle;\n",
       "    }\n",
       "\n",
       "    .dataframe tbody tr th {\n",
       "        vertical-align: top;\n",
       "    }\n",
       "\n",
       "    .dataframe thead th {\n",
       "        text-align: right;\n",
       "    }\n",
       "</style>\n",
       "<table border=\"1\" class=\"dataframe\">\n",
       "  <thead>\n",
       "    <tr style=\"text-align: right;\">\n",
       "      <th></th>\n",
       "      <th>anime_id</th>\n",
       "      <th>name</th>\n",
       "      <th>genre</th>\n",
       "      <th>type</th>\n",
       "      <th>episodes</th>\n",
       "      <th>rating</th>\n",
       "      <th>members</th>\n",
       "    </tr>\n",
       "  </thead>\n",
       "  <tbody>\n",
       "    <tr>\n",
       "      <th>0</th>\n",
       "      <td>32281</td>\n",
       "      <td>Kimi no Na wa.</td>\n",
       "      <td>Drama, Romance, School, Supernatural</td>\n",
       "      <td>Movie</td>\n",
       "      <td>1</td>\n",
       "      <td>9.37</td>\n",
       "      <td>200630</td>\n",
       "    </tr>\n",
       "    <tr>\n",
       "      <th>1</th>\n",
       "      <td>5114</td>\n",
       "      <td>Fullmetal Alchemist: Brotherhood</td>\n",
       "      <td>Action, Adventure, Drama, Fantasy, Magic, Mili...</td>\n",
       "      <td>TV</td>\n",
       "      <td>64</td>\n",
       "      <td>9.26</td>\n",
       "      <td>793665</td>\n",
       "    </tr>\n",
       "    <tr>\n",
       "      <th>2</th>\n",
       "      <td>28977</td>\n",
       "      <td>Gintama°</td>\n",
       "      <td>Action, Comedy, Historical, Parody, Samurai, S...</td>\n",
       "      <td>TV</td>\n",
       "      <td>51</td>\n",
       "      <td>9.25</td>\n",
       "      <td>114262</td>\n",
       "    </tr>\n",
       "    <tr>\n",
       "      <th>3</th>\n",
       "      <td>9253</td>\n",
       "      <td>Steins;Gate</td>\n",
       "      <td>Sci-Fi, Thriller</td>\n",
       "      <td>TV</td>\n",
       "      <td>24</td>\n",
       "      <td>9.17</td>\n",
       "      <td>673572</td>\n",
       "    </tr>\n",
       "    <tr>\n",
       "      <th>4</th>\n",
       "      <td>9969</td>\n",
       "      <td>Gintama&amp;#039;</td>\n",
       "      <td>Action, Comedy, Historical, Parody, Samurai, S...</td>\n",
       "      <td>TV</td>\n",
       "      <td>51</td>\n",
       "      <td>9.16</td>\n",
       "      <td>151266</td>\n",
       "    </tr>\n",
       "  </tbody>\n",
       "</table>\n",
       "</div>"
      ],
      "text/plain": [
       "   anime_id                              name  \\\n",
       "0     32281                    Kimi no Na wa.   \n",
       "1      5114  Fullmetal Alchemist: Brotherhood   \n",
       "2     28977                          Gintama°   \n",
       "3      9253                       Steins;Gate   \n",
       "4      9969                     Gintama&#039;   \n",
       "\n",
       "                                               genre   type episodes  rating  \\\n",
       "0               Drama, Romance, School, Supernatural  Movie        1    9.37   \n",
       "1  Action, Adventure, Drama, Fantasy, Magic, Mili...     TV       64    9.26   \n",
       "2  Action, Comedy, Historical, Parody, Samurai, S...     TV       51    9.25   \n",
       "3                                   Sci-Fi, Thriller     TV       24    9.17   \n",
       "4  Action, Comedy, Historical, Parody, Samurai, S...     TV       51    9.16   \n",
       "\n",
       "   members  \n",
       "0   200630  \n",
       "1   793665  \n",
       "2   114262  \n",
       "3   673572  \n",
       "4   151266  "
      ]
     },
     "execution_count": 4,
     "metadata": {},
     "output_type": "execute_result"
    }
   ],
   "source": [
    "#Loading dataset and viewing first 5 rows of anime.csv\n",
    "\n",
    "animes = pd.read_csv('/Users/AZM/Desktop/Dataset/anime.csv')\n",
    "animes.head()"
   ]
  },
  {
   "cell_type": "markdown",
   "metadata": {},
   "source": [
    "## Step 3: Exploratory Data Analysis (EDA)\n",
    "##### Need to get:\n",
    "* Number of ratings\n",
    "* Number of unique anime_id's \n",
    "* Number of unique users \n",
    "* Average number of ratings per user\n",
    "* Average number of ratings per anime "
   ]
  },
  {
   "cell_type": "code",
   "execution_count": 5,
   "metadata": {},
   "outputs": [
    {
     "name": "stdout",
     "output_type": "stream",
     "text": [
      "Number of ratings: 7813737\n",
      "Number of unique anime_id's: 11200\n",
      "Number of unique users: 73515\n",
      "Average number of ratings per user: 106.29\n",
      "Average number of ratings per anime: 697.66\n"
     ]
    }
   ],
   "source": [
    "\n",
    "\n",
    "n_ratings = len(ratings)\n",
    "n_animes = ratings['anime_id'].nunique()\n",
    "n_users = ratings['user_id'].nunique()\n",
    "\n",
    "print(f\"Number of ratings: {n_ratings}\")\n",
    "print(f\"Number of unique anime_id's: {n_animes}\")\n",
    "print(f\"Number of unique users: {n_users}\")\n",
    "print(f\"Average number of ratings per user: {round(n_ratings/n_users, 2)}\")\n",
    "print(f\"Average number of ratings per anime: {round(n_ratings/n_animes, 2)}\")"
   ]
  },
  {
   "cell_type": "code",
   "execution_count": 6,
   "metadata": {},
   "outputs": [
    {
     "data": {
      "image/png": "[encoded data removed]",
      "text/plain": [
       "<Figure size 432x288 with 1 Axes>"
      ]
     },
     "metadata": {
      "needs_background": "light"
     },
     "output_type": "display_data"
    }
   ],
   "source": [
    "#Plotting distribution of anime ratings\n",
    "\n",
    "sns.countplot(x=\"rating\", data=ratings, palette=\"deep\")\n",
    "plt.title(\"Distribution of anime ratings\", fontsize=20)\n",
    "plt.show()"
   ]
  },
  {
   "cell_type": "markdown",
   "metadata": {},
   "source": [
    " From the plot I see rating \"-1\" is prevalent.     I want to replace \"-1\" rating with \"0\", so that it doesn't impact our calculations of mean, etc."
   ]
  },
  {
   "cell_type": "code",
   "execution_count": 7,
   "metadata": {},
   "outputs": [
    {
     "data": {
      "text/html": [
       "<div>\n",
       "<style scoped>\n",
       "    .dataframe tbody tr th:only-of-type {\n",
       "        vertical-align: middle;\n",
       "    }\n",
       "\n",
       "    .dataframe tbody tr th {\n",
       "        vertical-align: top;\n",
       "    }\n",
       "\n",
       "    .dataframe thead th {\n",
       "        text-align: right;\n",
       "    }\n",
       "</style>\n",
       "<table border=\"1\" class=\"dataframe\">\n",
       "  <thead>\n",
       "    <tr style=\"text-align: right;\">\n",
       "      <th></th>\n",
       "      <th>user_id</th>\n",
       "      <th>anime_id</th>\n",
       "      <th>rating</th>\n",
       "    </tr>\n",
       "  </thead>\n",
       "  <tbody>\n",
       "    <tr>\n",
       "      <th>0</th>\n",
       "      <td>1</td>\n",
       "      <td>20</td>\n",
       "      <td>0</td>\n",
       "    </tr>\n",
       "    <tr>\n",
       "      <th>1</th>\n",
       "      <td>1</td>\n",
       "      <td>24</td>\n",
       "      <td>0</td>\n",
       "    </tr>\n",
       "    <tr>\n",
       "      <th>2</th>\n",
       "      <td>1</td>\n",
       "      <td>79</td>\n",
       "      <td>0</td>\n",
       "    </tr>\n",
       "    <tr>\n",
       "      <th>3</th>\n",
       "      <td>1</td>\n",
       "      <td>226</td>\n",
       "      <td>0</td>\n",
       "    </tr>\n",
       "    <tr>\n",
       "      <th>4</th>\n",
       "      <td>1</td>\n",
       "      <td>241</td>\n",
       "      <td>0</td>\n",
       "    </tr>\n",
       "  </tbody>\n",
       "</table>\n",
       "</div>"
      ],
      "text/plain": [
       "   user_id  anime_id  rating\n",
       "0        1        20       0\n",
       "1        1        24       0\n",
       "2        1        79       0\n",
       "3        1       226       0\n",
       "4        1       241       0"
      ]
     },
     "execution_count": 7,
     "metadata": {},
     "output_type": "execute_result"
    }
   ],
   "source": [
    "#replacing -1 with 0\n",
    "ratings.loc[ratings['rating'] == -1, 'rating'] = 0\n",
    "ratings.head()"
   ]
  },
  {
   "cell_type": "code",
   "execution_count": 8,
   "metadata": {},
   "outputs": [
    {
     "name": "stdout",
     "output_type": "stream",
     "text": [
      "Mean global rating: 6.33.\n",
      "Mean rating per user: 6.82.\n"
     ]
    }
   ],
   "source": [
    "#Mean global rating:\n",
    "#Mean rating per user:\n",
    "print(f\"Mean global rating: {round(ratings['rating'].mean(),2)}.\")\n",
    "\n",
    "mean_ratings = ratings.groupby('user_id')['rating'].mean()\n",
    "print(f\"Mean rating per user: {round(mean_ratings.mean(),2)}.\")"
   ]
  },
  {
   "cell_type": "markdown",
   "metadata": {},
   "source": [
    "###### Which anime has the lowest and highest average rating?"
   ]
  },
  {
   "cell_type": "code",
   "execution_count": 9,
   "metadata": {},
   "outputs": [
    {
     "data": {
      "text/html": [
       "<div>\n",
       "<style scoped>\n",
       "    .dataframe tbody tr th:only-of-type {\n",
       "        vertical-align: middle;\n",
       "    }\n",
       "\n",
       "    .dataframe tbody tr th {\n",
       "        vertical-align: top;\n",
       "    }\n",
       "\n",
       "    .dataframe thead th {\n",
       "        text-align: right;\n",
       "    }\n",
       "</style>\n",
       "<table border=\"1\" class=\"dataframe\">\n",
       "  <thead>\n",
       "    <tr style=\"text-align: right;\">\n",
       "      <th></th>\n",
       "      <th>anime_id</th>\n",
       "      <th>name</th>\n",
       "      <th>genre</th>\n",
       "      <th>type</th>\n",
       "      <th>episodes</th>\n",
       "      <th>rating</th>\n",
       "      <th>members</th>\n",
       "    </tr>\n",
       "  </thead>\n",
       "  <tbody>\n",
       "    <tr>\n",
       "      <th>4980</th>\n",
       "      <td>1396</td>\n",
       "      <td>Future GPX Cyber Formula: Early Days Renewal</td>\n",
       "      <td>Drama, Sci-Fi, Shounen, Sports</td>\n",
       "      <td>OVA</td>\n",
       "      <td>2</td>\n",
       "      <td>6.58</td>\n",
       "      <td>338</td>\n",
       "    </tr>\n",
       "  </tbody>\n",
       "</table>\n",
       "</div>"
      ],
      "text/plain": [
       "      anime_id                                          name  \\\n",
       "4980      1396  Future GPX Cyber Formula: Early Days Renewal   \n",
       "\n",
       "                               genre type episodes  rating  members  \n",
       "4980  Drama, Sci-Fi, Shounen, Sports  OVA        2    6.58      338  "
      ]
     },
     "execution_count": 9,
     "metadata": {},
     "output_type": "execute_result"
    }
   ],
   "source": [
    "#Getting lowest rated anime\n",
    "\n",
    "mean_ratings = ratings.groupby('anime_id')[['rating']].mean()\n",
    "lowest_rated = mean_ratings['rating'].idxmin()\n",
    "animes[animes['anime_id'] == lowest_rated]"
   ]
  },
  {
   "cell_type": "code",
   "execution_count": 10,
   "metadata": {},
   "outputs": [
    {
     "data": {
      "text/html": [
       "<div>\n",
       "<style scoped>\n",
       "    .dataframe tbody tr th:only-of-type {\n",
       "        vertical-align: middle;\n",
       "    }\n",
       "\n",
       "    .dataframe tbody tr th {\n",
       "        vertical-align: top;\n",
       "    }\n",
       "\n",
       "    .dataframe thead th {\n",
       "        text-align: right;\n",
       "    }\n",
       "</style>\n",
       "<table border=\"1\" class=\"dataframe\">\n",
       "  <thead>\n",
       "    <tr style=\"text-align: right;\">\n",
       "      <th></th>\n",
       "      <th>anime_id</th>\n",
       "      <th>name</th>\n",
       "      <th>genre</th>\n",
       "      <th>type</th>\n",
       "      <th>episodes</th>\n",
       "      <th>rating</th>\n",
       "      <th>members</th>\n",
       "    </tr>\n",
       "  </thead>\n",
       "  <tbody>\n",
       "    <tr>\n",
       "      <th>8364</th>\n",
       "      <td>31211</td>\n",
       "      <td>Choegang Top Plate</td>\n",
       "      <td>Action, Comedy, Kids, Sports</td>\n",
       "      <td>TV</td>\n",
       "      <td>26</td>\n",
       "      <td>7.2</td>\n",
       "      <td>86</td>\n",
       "    </tr>\n",
       "  </tbody>\n",
       "</table>\n",
       "</div>"
      ],
      "text/plain": [
       "      anime_id                name                         genre type  \\\n",
       "8364     31211  Choegang Top Plate  Action, Comedy, Kids, Sports   TV   \n",
       "\n",
       "     episodes  rating  members  \n",
       "8364       26     7.2       86  "
      ]
     },
     "execution_count": 10,
     "metadata": {},
     "output_type": "execute_result"
    }
   ],
   "source": [
    "#Getting highest rated anime\n",
    "\n",
    "highest_rated = mean_ratings['rating'].idxmax()\n",
    "animes[animes['anime_id'] == highest_rated]"
   ]
  },
  {
   "cell_type": "markdown",
   "metadata": {},
   "source": [
    "##### We see that \"Future GPX Cyber Formula: Early Days Renewa\"l and \"Choegang Top Plate\" have the lowest and highest ratings. But both of them have low number of people who rated them (seen in the column \"members\").\n",
    "#### To solve the issue with biased evaluation of lowest and highest anime, let's use Bayesian Average technique"
   ]
  },
  {
   "cell_type": "code",
   "execution_count": 11,
   "metadata": {},
   "outputs": [],
   "source": [
    "#pre-processing data\n",
    "\n",
    "anime_stats = ratings.groupby('anime_id')[['rating']].agg(['count', 'mean'])\n",
    "anime_stats.columns = anime_stats.columns.droplevel()"
   ]
  },
  {
   "cell_type": "code",
   "execution_count": 12,
   "metadata": {},
   "outputs": [],
   "source": [
    "#Creating a function bayesian_avg()\n",
    "\n",
    "C = anime_stats['count'].mean()\n",
    "m = anime_stats['mean'].mean()\n",
    "\n",
    "def bayesian_avg(ratings):\n",
    "    bayesian_avg = (C*m+ratings.sum())/(C+ratings.count())\n",
    "    return bayesian_avg\n",
    "\n",
    "bayesian_avg_ratings = ratings.groupby('anime_id')['rating'].agg(bayesian_avg).reset_index()\n",
    "bayesian_avg_ratings.columns = ['anime_id', 'bayesian_avg']\n",
    "anime_stats = anime_stats.merge(bayesian_avg_ratings, on='anime_id')"
   ]
  },
  {
   "cell_type": "code",
   "execution_count": 13,
   "metadata": {},
   "outputs": [
    {
     "data": {
      "text/html": [
       "<div>\n",
       "<style scoped>\n",
       "    .dataframe tbody tr th:only-of-type {\n",
       "        vertical-align: middle;\n",
       "    }\n",
       "\n",
       "    .dataframe tbody tr th {\n",
       "        vertical-align: top;\n",
       "    }\n",
       "\n",
       "    .dataframe thead th {\n",
       "        text-align: right;\n",
       "    }\n",
       "</style>\n",
       "<table border=\"1\" class=\"dataframe\">\n",
       "  <thead>\n",
       "    <tr style=\"text-align: right;\">\n",
       "      <th></th>\n",
       "      <th>anime_id</th>\n",
       "      <th>count</th>\n",
       "      <th>mean</th>\n",
       "      <th>bayesian_avg</th>\n",
       "      <th>name</th>\n",
       "    </tr>\n",
       "  </thead>\n",
       "  <tbody>\n",
       "    <tr>\n",
       "      <th>5673</th>\n",
       "      <td>9253</td>\n",
       "      <td>19283</td>\n",
       "      <td>8.237359</td>\n",
       "      <td>8.100195</td>\n",
       "      <td>Steins;Gate</td>\n",
       "    </tr>\n",
       "    <tr>\n",
       "      <th>3965</th>\n",
       "      <td>5114</td>\n",
       "      <td>24574</td>\n",
       "      <td>8.154269</td>\n",
       "      <td>8.048116</td>\n",
       "      <td>Fullmetal Alchemist: Brotherhood</td>\n",
       "    </tr>\n",
       "    <tr>\n",
       "      <th>3531</th>\n",
       "      <td>4181</td>\n",
       "      <td>17854</td>\n",
       "      <td>7.966114</td>\n",
       "      <td>7.828585</td>\n",
       "      <td>Clannad: After Story</td>\n",
       "    </tr>\n",
       "    <tr>\n",
       "      <th>2651</th>\n",
       "      <td>2904</td>\n",
       "      <td>24242</td>\n",
       "      <td>7.894563</td>\n",
       "      <td>7.794262</td>\n",
       "      <td>Code Geass: Hangyaku no Lelouch R2</td>\n",
       "    </tr>\n",
       "    <tr>\n",
       "      <th>6466</th>\n",
       "      <td>11061</td>\n",
       "      <td>8575</td>\n",
       "      <td>8.052128</td>\n",
       "      <td>7.770505</td>\n",
       "      <td>Hunter x Hunter (2011)</td>\n",
       "    </tr>\n",
       "  </tbody>\n",
       "</table>\n",
       "</div>"
      ],
      "text/plain": [
       "      anime_id  count      mean  bayesian_avg  \\\n",
       "5673      9253  19283  8.237359      8.100195   \n",
       "3965      5114  24574  8.154269      8.048116   \n",
       "3531      4181  17854  7.966114      7.828585   \n",
       "2651      2904  24242  7.894563      7.794262   \n",
       "6466     11061   8575  8.052128      7.770505   \n",
       "\n",
       "                                    name  \n",
       "5673                         Steins;Gate  \n",
       "3965    Fullmetal Alchemist: Brotherhood  \n",
       "3531                Clannad: After Story  \n",
       "2651  Code Geass: Hangyaku no Lelouch R2  \n",
       "6466              Hunter x Hunter (2011)  "
      ]
     },
     "execution_count": 13,
     "metadata": {},
     "output_type": "execute_result"
    }
   ],
   "source": [
    "anime_stats = anime_stats.merge(animes[['anime_id', 'name']])\n",
    "anime_stats.sort_values('bayesian_avg', ascending=False).head()"
   ]
  },
  {
   "cell_type": "code",
   "execution_count": 14,
   "metadata": {},
   "outputs": [
    {
     "data": {
      "text/html": [
       "<div>\n",
       "<style scoped>\n",
       "    .dataframe tbody tr th:only-of-type {\n",
       "        vertical-align: middle;\n",
       "    }\n",
       "\n",
       "    .dataframe tbody tr th {\n",
       "        vertical-align: top;\n",
       "    }\n",
       "\n",
       "    .dataframe thead th {\n",
       "        text-align: right;\n",
       "    }\n",
       "</style>\n",
       "<table border=\"1\" class=\"dataframe\">\n",
       "  <thead>\n",
       "    <tr style=\"text-align: right;\">\n",
       "      <th></th>\n",
       "      <th>anime_id</th>\n",
       "      <th>count</th>\n",
       "      <th>mean</th>\n",
       "      <th>bayesian_avg</th>\n",
       "      <th>name</th>\n",
       "    </tr>\n",
       "  </thead>\n",
       "  <tbody>\n",
       "    <tr>\n",
       "      <th>385</th>\n",
       "      <td>413</td>\n",
       "      <td>1131</td>\n",
       "      <td>2.236958</td>\n",
       "      <td>3.027477</td>\n",
       "      <td>Hametsu no Mars</td>\n",
       "    </tr>\n",
       "    <tr>\n",
       "      <th>8044</th>\n",
       "      <td>19315</td>\n",
       "      <td>2677</td>\n",
       "      <td>3.363840</td>\n",
       "      <td>3.559241</td>\n",
       "      <td>Pupa</td>\n",
       "    </tr>\n",
       "    <tr>\n",
       "      <th>2929</th>\n",
       "      <td>3287</td>\n",
       "      <td>237</td>\n",
       "      <td>1.839662</td>\n",
       "      <td>3.682868</td>\n",
       "      <td>Tenkuu Danzai Skelter+Heaven</td>\n",
       "    </tr>\n",
       "    <tr>\n",
       "      <th>7469</th>\n",
       "      <td>16608</td>\n",
       "      <td>231</td>\n",
       "      <td>2.670996</td>\n",
       "      <td>3.901568</td>\n",
       "      <td>Shitcom</td>\n",
       "    </tr>\n",
       "    <tr>\n",
       "      <th>3856</th>\n",
       "      <td>4866</td>\n",
       "      <td>1397</td>\n",
       "      <td>3.778096</td>\n",
       "      <td>3.954928</td>\n",
       "      <td>Pico x CoCo x Chico</td>\n",
       "    </tr>\n",
       "  </tbody>\n",
       "</table>\n",
       "</div>"
      ],
      "text/plain": [
       "      anime_id  count      mean  bayesian_avg                          name\n",
       "385        413   1131  2.236958      3.027477               Hametsu no Mars\n",
       "8044     19315   2677  3.363840      3.559241                          Pupa\n",
       "2929      3287    237  1.839662      3.682868  Tenkuu Danzai Skelter+Heaven\n",
       "7469     16608    231  2.670996      3.901568                       Shitcom\n",
       "3856      4866   1397  3.778096      3.954928           Pico x CoCo x Chico"
      ]
     },
     "execution_count": 14,
     "metadata": {},
     "output_type": "execute_result"
    }
   ],
   "source": [
    "#Printing sorted values of animes according to bayesian average.\n",
    "\n",
    "anime_stats.sort_values('bayesian_avg', ascending=True).head()"
   ]
  },
  {
   "cell_type": "markdown",
   "metadata": {},
   "source": [
    "After using Bayesian Average, we can see how the result makes much more sense now. The top animes are now actually well known ones with relevant number of people, who rated the animes.(see the column \"count\")."
   ]
  },
  {
   "cell_type": "markdown",
   "metadata": {},
   "source": [
    "### Exploring Genres\n",
    "#### Task for exploring genres: Count each unique genre from column \"genre\"."
   ]
  },
  {
   "cell_type": "markdown",
   "metadata": {},
   "source": [
    "#### Pre-process"
   ]
  },
  {
   "cell_type": "code",
   "execution_count": 15,
   "metadata": {},
   "outputs": [],
   "source": [
    "#I had to fill the NaN-s in order to make my dataset ready for exploration\n",
    "#filling na-s with \"\" empty string\n",
    "\n",
    "animes['genre']=animes['genre'].fillna(\"\")"
   ]
  },
  {
   "cell_type": "code",
   "execution_count": 16,
   "metadata": {},
   "outputs": [
    {
     "data": {
      "text/html": [
       "<div>\n",
       "<style scoped>\n",
       "    .dataframe tbody tr th:only-of-type {\n",
       "        vertical-align: middle;\n",
       "    }\n",
       "\n",
       "    .dataframe tbody tr th {\n",
       "        vertical-align: top;\n",
       "    }\n",
       "\n",
       "    .dataframe thead th {\n",
       "        text-align: right;\n",
       "    }\n",
       "</style>\n",
       "<table border=\"1\" class=\"dataframe\">\n",
       "  <thead>\n",
       "    <tr style=\"text-align: right;\">\n",
       "      <th></th>\n",
       "      <th>anime_id</th>\n",
       "      <th>name</th>\n",
       "      <th>genre</th>\n",
       "      <th>type</th>\n",
       "      <th>episodes</th>\n",
       "      <th>rating</th>\n",
       "      <th>members</th>\n",
       "    </tr>\n",
       "  </thead>\n",
       "  <tbody>\n",
       "    <tr>\n",
       "      <th>0</th>\n",
       "      <td>32281</td>\n",
       "      <td>Kimi no Na wa.</td>\n",
       "      <td>Drama, Romance, School, Supernatural</td>\n",
       "      <td>Movie</td>\n",
       "      <td>1</td>\n",
       "      <td>9.37</td>\n",
       "      <td>200630</td>\n",
       "    </tr>\n",
       "    <tr>\n",
       "      <th>1</th>\n",
       "      <td>5114</td>\n",
       "      <td>Fullmetal Alchemist: Brotherhood</td>\n",
       "      <td>Action, Adventure, Drama, Fantasy, Magic, Mili...</td>\n",
       "      <td>TV</td>\n",
       "      <td>64</td>\n",
       "      <td>9.26</td>\n",
       "      <td>793665</td>\n",
       "    </tr>\n",
       "    <tr>\n",
       "      <th>2</th>\n",
       "      <td>28977</td>\n",
       "      <td>Gintama°</td>\n",
       "      <td>Action, Comedy, Historical, Parody, Samurai, S...</td>\n",
       "      <td>TV</td>\n",
       "      <td>51</td>\n",
       "      <td>9.25</td>\n",
       "      <td>114262</td>\n",
       "    </tr>\n",
       "    <tr>\n",
       "      <th>3</th>\n",
       "      <td>9253</td>\n",
       "      <td>Steins;Gate</td>\n",
       "      <td>Sci-Fi, Thriller</td>\n",
       "      <td>TV</td>\n",
       "      <td>24</td>\n",
       "      <td>9.17</td>\n",
       "      <td>673572</td>\n",
       "    </tr>\n",
       "    <tr>\n",
       "      <th>4</th>\n",
       "      <td>9969</td>\n",
       "      <td>Gintama&amp;#039;</td>\n",
       "      <td>Action, Comedy, Historical, Parody, Samurai, S...</td>\n",
       "      <td>TV</td>\n",
       "      <td>51</td>\n",
       "      <td>9.16</td>\n",
       "      <td>151266</td>\n",
       "    </tr>\n",
       "  </tbody>\n",
       "</table>\n",
       "</div>"
      ],
      "text/plain": [
       "   anime_id                              name  \\\n",
       "0     32281                    Kimi no Na wa.   \n",
       "1      5114  Fullmetal Alchemist: Brotherhood   \n",
       "2     28977                          Gintama°   \n",
       "3      9253                       Steins;Gate   \n",
       "4      9969                     Gintama&#039;   \n",
       "\n",
       "                                               genre   type episodes  rating  \\\n",
       "0               Drama, Romance, School, Supernatural  Movie        1    9.37   \n",
       "1  Action, Adventure, Drama, Fantasy, Magic, Mili...     TV       64    9.26   \n",
       "2  Action, Comedy, Historical, Parody, Samurai, S...     TV       51    9.25   \n",
       "3                                   Sci-Fi, Thriller     TV       24    9.17   \n",
       "4  Action, Comedy, Historical, Parody, Samurai, S...     TV       51    9.16   \n",
       "\n",
       "   members  \n",
       "0   200630  \n",
       "1   793665  \n",
       "2   114262  \n",
       "3   673572  \n",
       "4   151266  "
      ]
     },
     "execution_count": 16,
     "metadata": {},
     "output_type": "execute_result"
    }
   ],
   "source": [
    "#converting column \"genre\" to string\n",
    "#It's done before converting it into list\n",
    "\n",
    "animes['genre'] = [''.join(map(str, l)) for l in animes['genre']]\n",
    "animes.head()"
   ]
  },
  {
   "cell_type": "code",
   "execution_count": 17,
   "metadata": {},
   "outputs": [
    {
     "data": {
      "text/html": [
       "<div>\n",
       "<style scoped>\n",
       "    .dataframe tbody tr th:only-of-type {\n",
       "        vertical-align: middle;\n",
       "    }\n",
       "\n",
       "    .dataframe tbody tr th {\n",
       "        vertical-align: top;\n",
       "    }\n",
       "\n",
       "    .dataframe thead th {\n",
       "        text-align: right;\n",
       "    }\n",
       "</style>\n",
       "<table border=\"1\" class=\"dataframe\">\n",
       "  <thead>\n",
       "    <tr style=\"text-align: right;\">\n",
       "      <th></th>\n",
       "      <th>anime_id</th>\n",
       "      <th>name</th>\n",
       "      <th>genre</th>\n",
       "      <th>type</th>\n",
       "      <th>episodes</th>\n",
       "      <th>rating</th>\n",
       "      <th>members</th>\n",
       "    </tr>\n",
       "  </thead>\n",
       "  <tbody>\n",
       "    <tr>\n",
       "      <th>0</th>\n",
       "      <td>32281</td>\n",
       "      <td>Kimi no Na wa.</td>\n",
       "      <td>[Drama,  Romance,  School,  Supernatural]</td>\n",
       "      <td>Movie</td>\n",
       "      <td>1</td>\n",
       "      <td>9.37</td>\n",
       "      <td>200630</td>\n",
       "    </tr>\n",
       "    <tr>\n",
       "      <th>1</th>\n",
       "      <td>5114</td>\n",
       "      <td>Fullmetal Alchemist: Brotherhood</td>\n",
       "      <td>[Action,  Adventure,  Drama,  Fantasy,  Magic,...</td>\n",
       "      <td>TV</td>\n",
       "      <td>64</td>\n",
       "      <td>9.26</td>\n",
       "      <td>793665</td>\n",
       "    </tr>\n",
       "    <tr>\n",
       "      <th>2</th>\n",
       "      <td>28977</td>\n",
       "      <td>Gintama°</td>\n",
       "      <td>[Action,  Comedy,  Historical,  Parody,  Samur...</td>\n",
       "      <td>TV</td>\n",
       "      <td>51</td>\n",
       "      <td>9.25</td>\n",
       "      <td>114262</td>\n",
       "    </tr>\n",
       "    <tr>\n",
       "      <th>3</th>\n",
       "      <td>9253</td>\n",
       "      <td>Steins;Gate</td>\n",
       "      <td>[Sci-Fi,  Thriller]</td>\n",
       "      <td>TV</td>\n",
       "      <td>24</td>\n",
       "      <td>9.17</td>\n",
       "      <td>673572</td>\n",
       "    </tr>\n",
       "    <tr>\n",
       "      <th>4</th>\n",
       "      <td>9969</td>\n",
       "      <td>Gintama&amp;#039;</td>\n",
       "      <td>[Action,  Comedy,  Historical,  Parody,  Samur...</td>\n",
       "      <td>TV</td>\n",
       "      <td>51</td>\n",
       "      <td>9.16</td>\n",
       "      <td>151266</td>\n",
       "    </tr>\n",
       "  </tbody>\n",
       "</table>\n",
       "</div>"
      ],
      "text/plain": [
       "   anime_id                              name  \\\n",
       "0     32281                    Kimi no Na wa.   \n",
       "1      5114  Fullmetal Alchemist: Brotherhood   \n",
       "2     28977                          Gintama°   \n",
       "3      9253                       Steins;Gate   \n",
       "4      9969                     Gintama&#039;   \n",
       "\n",
       "                                               genre   type episodes  rating  \\\n",
       "0          [Drama,  Romance,  School,  Supernatural]  Movie        1    9.37   \n",
       "1  [Action,  Adventure,  Drama,  Fantasy,  Magic,...     TV       64    9.26   \n",
       "2  [Action,  Comedy,  Historical,  Parody,  Samur...     TV       51    9.25   \n",
       "3                                [Sci-Fi,  Thriller]     TV       24    9.17   \n",
       "4  [Action,  Comedy,  Historical,  Parody,  Samur...     TV       51    9.16   \n",
       "\n",
       "   members  \n",
       "0   200630  \n",
       "1   793665  \n",
       "2   114262  \n",
       "3   673572  \n",
       "4   151266  "
      ]
     },
     "execution_count": 17,
     "metadata": {},
     "output_type": "execute_result"
    }
   ],
   "source": [
    "#converting column \"genre\" from string to list\n",
    "#It's done before using a function Counter that will count our genres.\n",
    "\n",
    "animes['genre'] = animes['genre'].apply(lambda x: x.split(\",\"))\n",
    "animes.head()"
   ]
  },
  {
   "cell_type": "code",
   "execution_count": 18,
   "metadata": {},
   "outputs": [
    {
     "name": "stdout",
     "output_type": "stream",
     "text": [
      "There are 83 genres.\n"
     ]
    },
    {
     "data": {
      "text/plain": [
       "Counter({'Drama': 991,\n",
       "         ' Romance': 1371,\n",
       "         ' School': 1170,\n",
       "         ' Supernatural': 1023,\n",
       "         'Action': 2845,\n",
       "         ' Adventure': 891,\n",
       "         ' Drama': 1025,\n",
       "         ' Fantasy': 1815,\n",
       "         ' Magic': 716,\n",
       "         ' Military': 405,\n",
       "         ' Shounen': 1663,\n",
       "         ' Comedy': 1452,\n",
       "         ' Historical': 636,\n",
       "         ' Parody': 393,\n",
       "         ' Samurai': 146,\n",
       "         ' Sci-Fi': 1986,\n",
       "         'Sci-Fi': 84,\n",
       "         ' Thriller': 86,\n",
       "         'Comedy': 3193,\n",
       "         ' Sports': 499,\n",
       "         ' Super Power': 464,\n",
       "         ' Space': 380,\n",
       "         ' Slice of Life': 1117,\n",
       "         ' Mecha': 826,\n",
       "         'Adventure': 1457,\n",
       "         ' Music': 457,\n",
       "         ' Mystery': 421,\n",
       "         ' Seinen': 536,\n",
       "         'Fantasy': 494,\n",
       "         ' Martial Arts': 260,\n",
       "         ' Vampire': 101,\n",
       "         ' Shoujo': 590,\n",
       "         ' Horror': 295,\n",
       "         ' Police': 196,\n",
       "         ' Psychological': 206,\n",
       "         'Mystery': 74,\n",
       "         'Psychological': 23,\n",
       "         ' Demons': 209,\n",
       "         'Ecchi': 65,\n",
       "         ' Josei': 51,\n",
       "         'Josei': 3,\n",
       "         'Military': 21,\n",
       "         'Romance': 93,\n",
       "         ' Shounen Ai': 65,\n",
       "         ' Game': 144,\n",
       "         'Demons': 85,\n",
       "         ' Ecchi': 572,\n",
       "         'Dementia': 206,\n",
       "         ' Harem': 275,\n",
       "         'Music': 403,\n",
       "         'Game': 37,\n",
       "         ' Cars': 37,\n",
       "         ' Dementia': 34,\n",
       "         'Cars': 35,\n",
       "         'Mecha': 118,\n",
       "         'Horror': 74,\n",
       "         'School': 50,\n",
       "         ' Kids': 1213,\n",
       "         'Historical': 170,\n",
       "         'Kids': 396,\n",
       "         ' Shoujo Ai': 55,\n",
       "         'Shounen': 49,\n",
       "         'Shoujo': 13,\n",
       "         'Magic': 62,\n",
       "         'Harem': 42,\n",
       "         'Martial Arts': 5,\n",
       "         'Sports': 44,\n",
       "         'Slice of Life': 103,\n",
       "         'Seinen': 11,\n",
       "         '': 62,\n",
       "         'Parody': 15,\n",
       "         'Police': 1,\n",
       "         'Thriller': 1,\n",
       "         'Supernatural': 14,\n",
       "         'Samurai': 2,\n",
       "         'Super Power': 1,\n",
       "         'Vampire': 1,\n",
       "         'Space': 1,\n",
       "         'Hentai': 947,\n",
       "         ' Yaoi': 36,\n",
       "         ' Hentai': 194,\n",
       "         ' Yuri': 42,\n",
       "         'Yaoi': 3})"
      ]
     },
     "execution_count": 18,
     "metadata": {},
     "output_type": "execute_result"
    }
   ],
   "source": [
    "#Counting each unique genre\n",
    "\n",
    "from collections import Counter\n",
    "\n",
    "genre_frequency = Counter(g for genres in animes['genre'] for g in genres)\n",
    "\n",
    "print(f\"There are {len(genre_frequency)} genres.\")\n",
    "\n",
    "genre_frequency"
   ]
  },
  {
   "cell_type": "markdown",
   "metadata": {},
   "source": [
    "We see that there are 83 unique genres."
   ]
  },
  {
   "cell_type": "code",
   "execution_count": 19,
   "metadata": {},
   "outputs": [
    {
     "name": "stdout",
     "output_type": "stream",
     "text": [
      "The 5 most common genres: \n",
      " [('Comedy', 3193), ('Action', 2845), (' Sci-Fi', 1986), (' Fantasy', 1815), (' Shounen', 1663)]\n"
     ]
    }
   ],
   "source": [
    "print(\"The 5 most common genres: \\n\", genre_frequency.most_common(5))"
   ]
  },
  {
   "cell_type": "markdown",
   "metadata": {},
   "source": [
    "## Step 4: Data Pre-processing\n",
    "\n",
    "### Building a Recommender system using Collaborative Filtering technique"
   ]
  },
  {
   "cell_type": "markdown",
   "metadata": {},
   "source": [
    "#### This technique is based on the premise that similar people like similar things.\n",
    "\n",
    "* The first step is to transform our data into a user-item matrix, also known as a \"utility\" matrix. In this matrix, rows represent users and columns represent animes. \n",
    "\n",
    "* The create_X() function outputs a sparse matrix X with four mapper dictionaries:\n",
    "\n",
    "user_mapper: maps user id to user index\n",
    "anime_mapper: maps anime id to anime index\n",
    "user_inv_mapper: maps user index to user id\n",
    "anime_inv_mapper: maps anime index to anime id\n",
    "We need these dictionaries because they map which row/column of the utility matrix corresponds to which user/anime id.\n",
    "\n",
    "Our X (user-item) matrix is a scipy.sparse.csr_matrix which stores the data sparsely."
   ]
  },
  {
   "cell_type": "code",
   "execution_count": 20,
   "metadata": {},
   "outputs": [],
   "source": [
    "from scipy.sparse import csr_matrix\n",
    "\n",
    "def create_X(df):\n",
    "    \"\"\"\n",
    "    Generates a sparse matrix from ratings dataframe.\n",
    "    \n",
    "    Args:\n",
    "        df: pandas dataframe containing 3 columns (user_id, anime_id, rating)\n",
    "    \n",
    "    Returns:\n",
    "        X: sparse matrix\n",
    "        user_mapper: dict that maps user id's to user indices\n",
    "        user_inv_mapper: dict that maps user indices to user id's\n",
    "        anime_mapper: dict that maps anime id's to anime indices\n",
    "        anime_inv_mapper: dict that maps anime indices to anime id's\n",
    "    \"\"\"\n",
    "    M = df['user_id'].nunique()\n",
    "    N = df['anime_id'].nunique()\n",
    "\n",
    "    user_mapper = dict(zip(np.unique(df[\"user_id\"]), list(range(M))))\n",
    "    anime_mapper = dict(zip(np.unique(df[\"anime_id\"]), list(range(N))))\n",
    "    \n",
    "    user_inv_mapper = dict(zip(list(range(M)), np.unique(df[\"user_id\"])))\n",
    "    anime_inv_mapper = dict(zip(list(range(N)), np.unique(df[\"anime_id\"])))\n",
    "    \n",
    "    user_index = [user_mapper[i] for i in df['user_id']]\n",
    "    item_index = [anime_mapper[i] for i in df['anime_id']]\n",
    "\n",
    "    X = csr_matrix((df[\"rating\"], (user_index,item_index)), shape=(M,N))\n",
    "    \n",
    "    return X, user_mapper, anime_mapper, user_inv_mapper, anime_inv_mapper\n",
    "\n",
    "X, user_mapper, anime_mapper, user_inv_mapper, anime_inv_mapper = create_X(ratings)"
   ]
  },
  {
   "cell_type": "markdown",
   "metadata": {},
   "source": [
    "Here, we calculate sparsity by dividing the number of stored elements by total number of elements. The number of stored (non-empty) elements in our matrix is equivalent to the number of ratings in our dataset."
   ]
  },
  {
   "cell_type": "code",
   "execution_count": 21,
   "metadata": {},
   "outputs": [
    {
     "name": "stdout",
     "output_type": "stream",
     "text": [
      "Matrix sparsity: 0.95%\n"
     ]
    }
   ],
   "source": [
    "#Evaluating sparsity\n",
    "n_total = X.shape[0]*X.shape[1]\n",
    "n_ratings = X.nnz\n",
    "sparsity = n_ratings/n_total\n",
    "print(f\"Matrix sparsity: {round(sparsity*100,2)}%\")"
   ]
  },
  {
   "cell_type": "markdown",
   "metadata": {},
   "source": [
    "Since our matrix is sparse for .95%, let's explore the numbers of ratings. We do it in order to know how the ratings are distributed"
   ]
  },
  {
   "cell_type": "code",
   "execution_count": 22,
   "metadata": {},
   "outputs": [
    {
     "name": "stdout",
     "output_type": "stream",
     "text": [
      "Most active user rated 10227 animes.\n",
      "Least active user rated 1 animes.\n"
     ]
    }
   ],
   "source": [
    "n_ratings_per_user = X.getnnz(axis=1)\n",
    "\n",
    "print(f\"Most active user rated {n_ratings_per_user.max()} animes.\")\n",
    "print(f\"Least active user rated {n_ratings_per_user.min()} animes.\")"
   ]
  },
  {
   "cell_type": "code",
   "execution_count": 23,
   "metadata": {},
   "outputs": [
    {
     "name": "stdout",
     "output_type": "stream",
     "text": [
      "Most rated anime has 39340 ratings.\n",
      "Least rated anime has 1 ratings.\n"
     ]
    }
   ],
   "source": [
    "n_ratings_per_anime = X.getnnz(axis=0)\n",
    "\n",
    "print(f\"Most rated anime has {n_ratings_per_anime.max()} ratings.\")\n",
    "print(f\"Least rated anime has {n_ratings_per_anime.min()} ratings.\")"
   ]
  },
  {
   "cell_type": "code",
   "execution_count": 24,
   "metadata": {},
   "outputs": [
    {
     "data": {
      "image/png": "[encoded data removed]",
      "text/plain": [
       "<Figure size 1152x288 with 2 Axes>"
      ]
     },
     "metadata": {
      "needs_background": "light"
     },
     "output_type": "display_data"
    }
   ],
   "source": [
    "plt.figure(figsize=(16,4))\n",
    "plt.subplot(1,2,1)\n",
    "sns.kdeplot(n_ratings_per_user, shade=True)\n",
    "plt.xlim(0)\n",
    "plt.title(\"Number of Ratings Per User\", fontsize=14)\n",
    "plt.xlabel(\"Number of Ratings per user\")\n",
    "plt.ylabel(\"density\")\n",
    "plt.subplot(1,2,2)\n",
    "sns.kdeplot(n_ratings_per_anime, shade=True)\n",
    "plt.xlim(0)\n",
    "plt.title(\"Number of Ratings Per Anime\", fontsize=14)\n",
    "plt.xlabel(\"number of ratings per anime\")\n",
    "plt.ylabel(\"density\")\n",
    "plt.show()"
   ]
  },
  {
   "cell_type": "markdown",
   "metadata": {},
   "source": [
    "#### We see that the numbers are distribured very naturally:\n",
    "\n",
    "* Mostly each person did not rate thousands of animes.\n",
    "* Most of the animes have less than 5000 ratings. "
   ]
  },
  {
   "cell_type": "markdown",
   "metadata": {},
   "source": [
    "#### Normalizing our data: we need to do it in order to make our data scaled evenly. (For more info on normalization, try to google the concept of normalizing data)"
   ]
  },
  {
   "cell_type": "code",
   "execution_count": 25,
   "metadata": {},
   "outputs": [],
   "source": [
    "#Normalizing our data\n",
    "# normalize the data attributes\n",
    "from sklearn import preprocessing\n",
    "\n",
    "X_norm = preprocessing.normalize(X)"
   ]
  },
  {
   "cell_type": "markdown",
   "metadata": {},
   "source": [
    "## Step 5: Item to item Recommendations with k-Nearest Neighbors (kNN) according to genre"
   ]
  },
  {
   "cell_type": "code",
   "execution_count": 26,
   "metadata": {},
   "outputs": [],
   "source": [
    "from sklearn.neighbors import NearestNeighbors\n",
    "\n",
    "def find_similar_animes(anime_id, X, anime_mapper, anime_inv_mapper, k, metric='cosine'):\n",
    "    \"\"\"\n",
    "    Finds k-nearest neighbours for a given anime id.\n",
    "    \n",
    "    Args:\n",
    "        animee_id: id of the anime of interest\n",
    "        X: user-item utility matrix\n",
    "        k: number of similar animes to retrieve\n",
    "        metric: distance metric for kNN calculations\n",
    "    \n",
    "    Output: returns list of k similar anime ID's\n",
    "    \"\"\"\n",
    "    X = X.T\n",
    "    neighbour_ids = []\n",
    "    \n",
    "    anime_ind = anime_mapper[anime_id]\n",
    "    anime_vec = X[anime_ind]\n",
    "    if isinstance(anime_vec, (np.ndarray)):\n",
    "        anime_vec = anime_vec.reshape(1,-1)\n",
    "    # use k+1 since kNN output includes the anime_id of interest\n",
    "    kNN = NearestNeighbors(n_neighbors=k+1, algorithm=\"brute\", metric=metric)\n",
    "    kNN.fit(X)\n",
    "    neighbour = kNN.kneighbors(anime_vec, return_distance=False)\n",
    "    for i in range(0,k):\n",
    "        n = neighbour.item(i)\n",
    "        neighbour_ids.append(anime_inv_mapper[n])\n",
    "    neighbour_ids.pop(0)\n",
    "    return neighbour_ids"
   ]
  },
  {
   "cell_type": "code",
   "execution_count": 27,
   "metadata": {},
   "outputs": [
    {
     "data": {
      "text/plain": [
       "[5, 205, 6, 227, 30, 47, 43, 2001, 467]"
      ]
     },
     "execution_count": 27,
     "metadata": {},
     "output_type": "execute_result"
    }
   ],
   "source": [
    "similar_animes = find_similar_animes(1, X_norm, anime_mapper, anime_inv_mapper, k=10)\n",
    "similar_animes"
   ]
  },
  {
   "cell_type": "markdown",
   "metadata": {},
   "source": [
    "find_similar_animes() takes in a anime_id and X matrix, and outputs a list of $k$ animes that are similar to the anime_id of interest.\n",
    "\n",
    "#### Let's see how it works in action. We will first create another mapper that maps anime_id to title so that our results are interpretable.\n",
    "Get recommendations if the user watched Naruto (id in dataset = 20)"
   ]
  },
  {
   "cell_type": "code",
   "execution_count": 28,
   "metadata": {},
   "outputs": [
    {
     "name": "stdout",
     "output_type": "stream",
     "text": [
      "Because you watched Naruto:\n",
      "Death Note\n",
      "Naruto Movie 1: Dai Katsugeki!! Yuki Hime Shinobu Houjou Dattebayo!\n",
      "Fullmetal Alchemist\n",
      "Dragon Ball Z\n",
      "Bleach\n",
      "Naruto: Shippuuden Movie 1\n",
      "Naruto Movie 2: Dai Gekitotsu! Maboroshi no Chiteiiseki Dattebayo!\n",
      "Dragon Ball\n",
      "Code Geass: Hangyaku no Lelouch\n"
     ]
    }
   ],
   "source": [
    "#Recommendations if the user watched Naruto (id in dataset = 20).\n",
    "\n",
    "anime_titles = dict(zip(animes['anime_id'], animes['name']))\n",
    "\n",
    "anime_id = 20\n",
    "\n",
    "similar_animes = find_similar_animes(anime_id, X_norm, anime_mapper, anime_inv_mapper, metric='cosine', k=10)\n",
    "anime_title = anime_titles[anime_id]\n",
    "\n",
    "print(f\"Because you watched {anime_title}:\")\n",
    "for i in similar_animes:\n",
    "    print(anime_titles[i])"
   ]
  },
  {
   "cell_type": "markdown",
   "metadata": {},
   "source": [
    "The results above show the 10 animes that are most similar to Naruto. \n",
    "Most of the animes recommended seem to be famous animes or animes related to Naruto itself. It's a pretty reasonable recommendation list."
   ]
  },
  {
   "cell_type": "markdown",
   "metadata": {},
   "source": [
    "## Step 6: Handling the cold-start problem\n",
    "\n",
    "Collaborative filtering relies solely on user-item interactions within the utility matrix. The issue with this approach is that brand new users or items with no iteractions get excluded from the recommendation system. This is called the cold start problem. Content-based filtering is a way to handle this problem by generating recommendations based on user and item features.\n",
    "\n",
    "First, we need to convert the genres column into binary features. Each genre will have its own column in the dataframe, and will be populated with 0 or 1."
   ]
  },
  {
   "cell_type": "code",
   "execution_count": 29,
   "metadata": {},
   "outputs": [
    {
     "name": "stdout",
     "output_type": "stream",
     "text": [
      "There are 12294 unique animes in our animes dataset.\n"
     ]
    }
   ],
   "source": [
    "n_animes = animes['anime_id'].nunique()\n",
    "print(f\"There are {n_animes} unique animes in our animes dataset.\")"
   ]
  },
  {
   "cell_type": "code",
   "execution_count": 30,
   "metadata": {},
   "outputs": [],
   "source": [
    "#Creating genres dataframe\n",
    "\n",
    "genres = set(g for G in animes['genre'] for g in G)\n",
    "\n",
    "for g in genres:\n",
    "    animes[g] = animes.genre.transform(lambda x: int(g in x))\n",
    "    \n",
    "anime_genres = animes.drop(columns=['anime_id', 'name','genre'])\n"
   ]
  },
  {
   "cell_type": "code",
   "execution_count": 31,
   "metadata": {},
   "outputs": [],
   "source": [
    "#removing irrelevant columns\n",
    "del anime_genres['type']\n",
    "del anime_genres['episodes']\n",
    "del anime_genres['rating']\n",
    "del anime_genres['members']\n",
    "del anime_genres['']"
   ]
  },
  {
   "cell_type": "code",
   "execution_count": 32,
   "metadata": {},
   "outputs": [
    {
     "data": {
      "text/html": [
       "<div>\n",
       "<style scoped>\n",
       "    .dataframe tbody tr th:only-of-type {\n",
       "        vertical-align: middle;\n",
       "    }\n",
       "\n",
       "    .dataframe tbody tr th {\n",
       "        vertical-align: top;\n",
       "    }\n",
       "\n",
       "    .dataframe thead th {\n",
       "        text-align: right;\n",
       "    }\n",
       "</style>\n",
       "<table border=\"1\" class=\"dataframe\">\n",
       "  <thead>\n",
       "    <tr style=\"text-align: right;\">\n",
       "      <th></th>\n",
       "      <th>Kids</th>\n",
       "      <th>Drama</th>\n",
       "      <th>Mystery</th>\n",
       "      <th>Samurai</th>\n",
       "      <th>Comedy</th>\n",
       "      <th>Game</th>\n",
       "      <th>Space</th>\n",
       "      <th>Vampire</th>\n",
       "      <th>Adventure</th>\n",
       "      <th>Super Power</th>\n",
       "      <th>...</th>\n",
       "      <th>Psychological</th>\n",
       "      <th>Supernatural</th>\n",
       "      <th>Fantasy</th>\n",
       "      <th>Shounen</th>\n",
       "      <th>Sci-Fi</th>\n",
       "      <th>Military</th>\n",
       "      <th>Hentai</th>\n",
       "      <th>Ecchi</th>\n",
       "      <th>Action</th>\n",
       "      <th>School</th>\n",
       "    </tr>\n",
       "  </thead>\n",
       "  <tbody>\n",
       "    <tr>\n",
       "      <th>0</th>\n",
       "      <td>0</td>\n",
       "      <td>0</td>\n",
       "      <td>0</td>\n",
       "      <td>0</td>\n",
       "      <td>0</td>\n",
       "      <td>0</td>\n",
       "      <td>0</td>\n",
       "      <td>0</td>\n",
       "      <td>0</td>\n",
       "      <td>0</td>\n",
       "      <td>...</td>\n",
       "      <td>0</td>\n",
       "      <td>0</td>\n",
       "      <td>0</td>\n",
       "      <td>0</td>\n",
       "      <td>0</td>\n",
       "      <td>0</td>\n",
       "      <td>0</td>\n",
       "      <td>0</td>\n",
       "      <td>0</td>\n",
       "      <td>1</td>\n",
       "    </tr>\n",
       "    <tr>\n",
       "      <th>1</th>\n",
       "      <td>0</td>\n",
       "      <td>1</td>\n",
       "      <td>0</td>\n",
       "      <td>0</td>\n",
       "      <td>0</td>\n",
       "      <td>0</td>\n",
       "      <td>0</td>\n",
       "      <td>0</td>\n",
       "      <td>1</td>\n",
       "      <td>0</td>\n",
       "      <td>...</td>\n",
       "      <td>0</td>\n",
       "      <td>0</td>\n",
       "      <td>0</td>\n",
       "      <td>1</td>\n",
       "      <td>0</td>\n",
       "      <td>0</td>\n",
       "      <td>0</td>\n",
       "      <td>0</td>\n",
       "      <td>1</td>\n",
       "      <td>0</td>\n",
       "    </tr>\n",
       "    <tr>\n",
       "      <th>2</th>\n",
       "      <td>0</td>\n",
       "      <td>0</td>\n",
       "      <td>0</td>\n",
       "      <td>1</td>\n",
       "      <td>1</td>\n",
       "      <td>0</td>\n",
       "      <td>0</td>\n",
       "      <td>0</td>\n",
       "      <td>0</td>\n",
       "      <td>0</td>\n",
       "      <td>...</td>\n",
       "      <td>0</td>\n",
       "      <td>0</td>\n",
       "      <td>0</td>\n",
       "      <td>1</td>\n",
       "      <td>0</td>\n",
       "      <td>0</td>\n",
       "      <td>0</td>\n",
       "      <td>0</td>\n",
       "      <td>1</td>\n",
       "      <td>0</td>\n",
       "    </tr>\n",
       "    <tr>\n",
       "      <th>3</th>\n",
       "      <td>0</td>\n",
       "      <td>0</td>\n",
       "      <td>0</td>\n",
       "      <td>0</td>\n",
       "      <td>0</td>\n",
       "      <td>0</td>\n",
       "      <td>0</td>\n",
       "      <td>0</td>\n",
       "      <td>0</td>\n",
       "      <td>0</td>\n",
       "      <td>...</td>\n",
       "      <td>0</td>\n",
       "      <td>0</td>\n",
       "      <td>0</td>\n",
       "      <td>0</td>\n",
       "      <td>1</td>\n",
       "      <td>0</td>\n",
       "      <td>0</td>\n",
       "      <td>0</td>\n",
       "      <td>0</td>\n",
       "      <td>0</td>\n",
       "    </tr>\n",
       "    <tr>\n",
       "      <th>4</th>\n",
       "      <td>0</td>\n",
       "      <td>0</td>\n",
       "      <td>0</td>\n",
       "      <td>1</td>\n",
       "      <td>1</td>\n",
       "      <td>0</td>\n",
       "      <td>0</td>\n",
       "      <td>0</td>\n",
       "      <td>0</td>\n",
       "      <td>0</td>\n",
       "      <td>...</td>\n",
       "      <td>0</td>\n",
       "      <td>0</td>\n",
       "      <td>0</td>\n",
       "      <td>1</td>\n",
       "      <td>0</td>\n",
       "      <td>0</td>\n",
       "      <td>0</td>\n",
       "      <td>0</td>\n",
       "      <td>1</td>\n",
       "      <td>0</td>\n",
       "    </tr>\n",
       "  </tbody>\n",
       "</table>\n",
       "<p>5 rows × 82 columns</p>\n",
       "</div>"
      ],
      "text/plain": [
       "   Kids   Drama  Mystery   Samurai   Comedy   Game   Space  Vampire  \\\n",
       "0     0       0        0         0        0      0       0        0   \n",
       "1     0       1        0         0        0      0       0        0   \n",
       "2     0       0        0         1        1      0       0        0   \n",
       "3     0       0        0         0        0      0       0        0   \n",
       "4     0       0        0         1        1      0       0        0   \n",
       "\n",
       "    Adventure  Super Power  ...  Psychological  Supernatural  Fantasy  \\\n",
       "0           0            0  ...              0             0        0   \n",
       "1           1            0  ...              0             0        0   \n",
       "2           0            0  ...              0             0        0   \n",
       "3           0            0  ...              0             0        0   \n",
       "4           0            0  ...              0             0        0   \n",
       "\n",
       "    Shounen  Sci-Fi  Military  Hentai  Ecchi  Action   School  \n",
       "0         0       0         0       0      0       0        1  \n",
       "1         1       0         0       0      0       1        0  \n",
       "2         1       0         0       0      0       1        0  \n",
       "3         0       1         0       0      0       0        0  \n",
       "4         1       0         0       0      0       1        0  \n",
       "\n",
       "[5 rows x 82 columns]"
      ]
     },
     "execution_count": 32,
     "metadata": {},
     "output_type": "execute_result"
    }
   ],
   "source": [
    "anime_genres.head()"
   ]
  },
  {
   "cell_type": "markdown",
   "metadata": {},
   "source": [
    "We use cosine_similarity method to measure the distance of animes from each other. (Cosine similarity is one of the methods to measure the difference of points(animes in our case) )"
   ]
  },
  {
   "cell_type": "code",
   "execution_count": 33,
   "metadata": {},
   "outputs": [
    {
     "name": "stdout",
     "output_type": "stream",
     "text": [
      "Dimensions of our genres cosine similarity matrix: (12294, 12294)\n"
     ]
    }
   ],
   "source": [
    "from sklearn.metrics.pairwise import cosine_similarity\n",
    "\n",
    "cosine_sim = cosine_similarity(anime_genres, anime_genres)\n",
    "print(f\"Dimensions of our genres cosine similarity matrix: {cosine_sim.shape}\")"
   ]
  },
  {
   "cell_type": "code",
   "execution_count": 34,
   "metadata": {},
   "outputs": [
    {
     "data": {
      "text/plain": [
       "['Boruto: Naruto the Movie',\n",
       " 'Naruto: Shippuuden',\n",
       " 'The Last: Naruto the Movie',\n",
       " 'Naruto: Shippuuden Movie 6 - Road to Ninja',\n",
       " 'Naruto',\n",
       " 'Boruto: Naruto the Movie - Naruto ga Hokage ni Natta Hi',\n",
       " 'Naruto: Shippuuden Movie 5 - Blood Prison',\n",
       " 'Naruto x UT',\n",
       " 'Naruto: Shippuuden Movie 4 - The Lost Tower',\n",
       " 'Naruto: Shippuuden Movie 3 - Hi no Ishi wo Tsugu Mono',\n",
       " 'Naruto: Shippuuden Movie 1',\n",
       " 'Naruto: Shippuuden Movie 2 - Kizuna',\n",
       " 'Naruto Shippuuden: Shippuu! &quot;Konoha Gakuen&quot; Den',\n",
       " 'Naruto: Honoo no Chuunin Shiken! Naruto vs. Konohamaru!!',\n",
       " 'Naruto SD: Rock Lee no Seishun Full-Power Ninden',\n",
       " 'Naruto Shippuuden: Sunny Side Battle',\n",
       " 'Naruto Movie 1: Dai Katsugeki!! Yuki Hime Shinobu Houjou Dattebayo!',\n",
       " 'Naruto Soyokazeden Movie: Naruto to Mashin to Mitsu no Onegai Dattebayo!!',\n",
       " 'Naruto Movie 2: Dai Gekitotsu! Maboroshi no Chiteiiseki Dattebayo!',\n",
       " 'Naruto: Dai Katsugeki!! Yuki Hime Shinobu Houjou Dattebayo! Special: Konoha Annual Sports Festival',\n",
       " 'Naruto Movie 3: Dai Koufun! Mikazuki Jima no Animaru Panikku Dattebayo!',\n",
       " 'Naruto: The Cross Roads',\n",
       " 'Naruto Narutimate Hero 3: Tsuini Gekitotsu! Jounin vs. Genin!! Musabetsu Dairansen taikai Kaisai!!',\n",
       " 'Naruto: Takigakure no Shitou - Ore ga Eiyuu Dattebayo!',\n",
       " 'Naruto: Akaki Yotsuba no Clover wo Sagase']"
      ]
     },
     "execution_count": 34,
     "metadata": {},
     "output_type": "execute_result"
    }
   ],
   "source": [
    "def anime_finder(title):\n",
    "    return animes[animes['name'].str.contains(title)]['name'].tolist()\n",
    "\n",
    "anime_finder('Naruto')"
   ]
  },
  {
   "cell_type": "markdown",
   "metadata": {},
   "source": [
    "### Seeing the content based recommender in action"
   ]
  },
  {
   "cell_type": "code",
   "execution_count": 35,
   "metadata": {},
   "outputs": [
    {
     "name": "stdout",
     "output_type": "stream",
     "text": [
      "Recommendations for Boruto: Naruto the Movie:\n"
     ]
    },
    {
     "data": {
      "text/plain": [
       "615                                    Naruto: Shippuuden\n",
       "841                                                Naruto\n",
       "1103    Boruto: Naruto the Movie - Naruto ga Hokage ni...\n",
       "1343                                          Naruto x UT\n",
       "1472          Naruto: Shippuuden Movie 4 - The Lost Tower\n",
       "1573    Naruto: Shippuuden Movie 3 - Hi no Ishi wo Tsu...\n",
       "2458                 Naruto Shippuuden: Sunny Side Battle\n",
       "2997    Naruto Soyokazeden Movie: Naruto to Mashin to ...\n",
       "175                                Katekyo Hitman Reborn!\n",
       "7628                              Kyutai Panic Adventure!\n",
       "Name: name, dtype: object"
      ]
     },
     "execution_count": 35,
     "metadata": {},
     "output_type": "execute_result"
    }
   ],
   "source": [
    "anime_idx = dict(zip(animes['name'], list(animes.index)))\n",
    "title = anime_finder('Naruto')[0]\n",
    "n_recommendations = 10\n",
    "\n",
    "idx = anime_idx[title]\n",
    "sim_scores = list(enumerate(cosine_sim[idx]))\n",
    "sim_scores = sorted(sim_scores, key=lambda x: x[1], reverse=True)\n",
    "sim_scores = sim_scores[1:(n_recommendations+1)]\n",
    "similar_animes = [i[0] for i in sim_scores]\n",
    "\n",
    "print(f\"Recommendations for {title}:\")\n",
    "animes['name'].iloc[similar_animes]"
   ]
  },
  {
   "cell_type": "markdown",
   "metadata": {},
   "source": [
    "We can see in this recommender that even if the new user comes, we are able to recommend the animes that person wants."
   ]
  },
  {
   "cell_type": "markdown",
   "metadata": {},
   "source": [
    "## Let's test our recommenders one more time:"
   ]
  },
  {
   "cell_type": "markdown",
   "metadata": {},
   "source": [
    "## Firstly, let's test Content Based recommender."
   ]
  },
  {
   "cell_type": "code",
   "execution_count": 36,
   "metadata": {},
   "outputs": [
    {
     "data": {
      "text/html": [
       "<div>\n",
       "<style scoped>\n",
       "    .dataframe tbody tr th:only-of-type {\n",
       "        vertical-align: middle;\n",
       "    }\n",
       "\n",
       "    .dataframe tbody tr th {\n",
       "        vertical-align: top;\n",
       "    }\n",
       "\n",
       "    .dataframe thead th {\n",
       "        text-align: right;\n",
       "    }\n",
       "</style>\n",
       "<table border=\"1\" class=\"dataframe\">\n",
       "  <thead>\n",
       "    <tr style=\"text-align: right;\">\n",
       "      <th></th>\n",
       "      <th>anime_id</th>\n",
       "      <th>name</th>\n",
       "      <th>genre</th>\n",
       "      <th>type</th>\n",
       "      <th>episodes</th>\n",
       "      <th>rating</th>\n",
       "      <th>members</th>\n",
       "      <th></th>\n",
       "      <th>Kids</th>\n",
       "      <th>Drama</th>\n",
       "      <th>...</th>\n",
       "      <th>Psychological</th>\n",
       "      <th>Supernatural</th>\n",
       "      <th>Fantasy</th>\n",
       "      <th>Shounen</th>\n",
       "      <th>Sci-Fi</th>\n",
       "      <th>Military</th>\n",
       "      <th>Hentai</th>\n",
       "      <th>Ecchi</th>\n",
       "      <th>Action</th>\n",
       "      <th>School</th>\n",
       "    </tr>\n",
       "  </thead>\n",
       "  <tbody>\n",
       "    <tr>\n",
       "      <th>841</th>\n",
       "      <td>20</td>\n",
       "      <td>Naruto</td>\n",
       "      <td>[Action,  Comedy,  Martial Arts,  Shounen,  Su...</td>\n",
       "      <td>TV</td>\n",
       "      <td>220</td>\n",
       "      <td>7.81</td>\n",
       "      <td>683297</td>\n",
       "      <td>0</td>\n",
       "      <td>0</td>\n",
       "      <td>0</td>\n",
       "      <td>...</td>\n",
       "      <td>0</td>\n",
       "      <td>0</td>\n",
       "      <td>0</td>\n",
       "      <td>1</td>\n",
       "      <td>0</td>\n",
       "      <td>0</td>\n",
       "      <td>0</td>\n",
       "      <td>0</td>\n",
       "      <td>1</td>\n",
       "      <td>0</td>\n",
       "    </tr>\n",
       "  </tbody>\n",
       "</table>\n",
       "<p>1 rows × 90 columns</p>\n",
       "</div>"
      ],
      "text/plain": [
       "     anime_id    name                                              genre type  \\\n",
       "841        20  Naruto  [Action,  Comedy,  Martial Arts,  Shounen,  Su...   TV   \n",
       "\n",
       "    episodes  rating  members     Kids   Drama  ...  Psychological  \\\n",
       "841      220    7.81   683297  0     0       0  ...              0   \n",
       "\n",
       "     Supernatural  Fantasy   Shounen  Sci-Fi  Military  Hentai  Ecchi  Action  \\\n",
       "841             0        0         1       0         0       0      0       1   \n",
       "\n",
       "      School  \n",
       "841        0  \n",
       "\n",
       "[1 rows x 90 columns]"
      ]
     },
     "execution_count": 36,
     "metadata": {},
     "output_type": "execute_result"
    }
   ],
   "source": [
    "#Find the ID of interested anime\n",
    "animes.loc[animes['name'] == \"Naruto\"]"
   ]
  },
  {
   "cell_type": "markdown",
   "metadata": {},
   "source": [
    "### If new user wants to get recommendations for \"Naruto\", then:"
   ]
  },
  {
   "cell_type": "code",
   "execution_count": 37,
   "metadata": {},
   "outputs": [
    {
     "name": "stdout",
     "output_type": "stream",
     "text": [
      "Recommendations for Boruto: Naruto the Movie:\n"
     ]
    },
    {
     "data": {
      "text/plain": [
       "615                                    Naruto: Shippuuden\n",
       "841                                                Naruto\n",
       "1103    Boruto: Naruto the Movie - Naruto ga Hokage ni...\n",
       "1343                                          Naruto x UT\n",
       "1472          Naruto: Shippuuden Movie 4 - The Lost Tower\n",
       "1573    Naruto: Shippuuden Movie 3 - Hi no Ishi wo Tsu...\n",
       "2458                 Naruto Shippuuden: Sunny Side Battle\n",
       "2997    Naruto Soyokazeden Movie: Naruto to Mashin to ...\n",
       "175                                Katekyo Hitman Reborn!\n",
       "7628                              Kyutai Panic Adventure!\n",
       "Name: name, dtype: object"
      ]
     },
     "execution_count": 37,
     "metadata": {},
     "output_type": "execute_result"
    }
   ],
   "source": [
    "#Content Based recommender\n",
    "\n",
    "anime_idx = dict(zip(animes['name'], list(animes.index)))\n",
    "title = anime_finder('Naruto')[0]\n",
    "n_recommendations = 10\n",
    "\n",
    "idx = anime_idx[title]\n",
    "sim_scores = list(enumerate(cosine_sim[idx]))\n",
    "sim_scores = sorted(sim_scores, key=lambda x: x[1], reverse=True)\n",
    "sim_scores = sim_scores[1:(n_recommendations+1)]\n",
    "similar_animes = [i[0] for i in sim_scores]\n",
    "\n",
    "print(f\"Recommendations for {title}:\")\n",
    "animes['name'].iloc[similar_animes]"
   ]
  },
  {
   "cell_type": "markdown",
   "metadata": {},
   "source": [
    "### Once user finished watching \"Naruto\", system recommends other related animes"
   ]
  },
  {
   "cell_type": "code",
   "execution_count": 38,
   "metadata": {},
   "outputs": [
    {
     "name": "stdout",
     "output_type": "stream",
     "text": [
      "Because you watched Naruto:\n",
      "Death Note\n",
      "Naruto Movie 1: Dai Katsugeki!! Yuki Hime Shinobu Houjou Dattebayo!\n",
      "Fullmetal Alchemist\n",
      "Dragon Ball Z\n",
      "Bleach\n",
      "Naruto: Shippuuden Movie 1\n",
      "Naruto Movie 2: Dai Gekitotsu! Maboroshi no Chiteiiseki Dattebayo!\n",
      "Dragon Ball\n",
      "Code Geass: Hangyaku no Lelouch\n"
     ]
    }
   ],
   "source": [
    "#Collaborative Filtering Recommender\n",
    "#Recommendations if the user watched Naruto (id in dataset = 20).\n",
    "\n",
    "anime_titles = dict(zip(animes['anime_id'], animes['name']))\n",
    "\n",
    "anime_id = 20\n",
    "\n",
    "similar_animes = find_similar_animes(anime_id, X_norm, anime_mapper, anime_inv_mapper, metric='cosine', k=10)\n",
    "anime_title = anime_titles[anime_id]\n",
    "\n",
    "print(f\"Because you watched {anime_title}:\")\n",
    "for i in similar_animes:\n",
    "    print(anime_titles[i])"
   ]
  }
 ],
 "metadata": {
  "kernelspec": {
   "display_name": "Python 3",
   "language": "python",
   "name": "python3"
  },
  "language_info": {
   "codemirror_mode": {
    "name": "ipython",
    "version": 3
   },
   "file_extension": ".py",
   "mimetype": "text/x-python",
   "name": "python",
   "nbconvert_exporter": "python",
   "pygments_lexer": "ipython3",
   "version": "3.7.6"
  }
 },
 "nbformat": 4,
 "nbformat_minor": 4
}
